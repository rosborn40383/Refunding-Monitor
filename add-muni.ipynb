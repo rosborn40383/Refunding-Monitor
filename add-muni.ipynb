{
 "cells": [
  {
   "cell_type": "markdown",
   "id": "19fcf76b",
   "metadata": {},
   "source": [
    "So literally the entire point of this code is to add the word Muni to a list of CUSIP numbers lol"
   ]
  },
  {
   "cell_type": "code",
   "execution_count": null,
   "id": "e5042fa5",
   "metadata": {},
   "outputs": [],
   "source": [
    "import blpapi #Bloomberg API\n",
    "import sys #For system stuff\n",
    "import pandas as pd #Pandas for formatting\n",
    "import numpy as np"
   ]
  },
  {
   "cell_type": "code",
   "execution_count": 2,
   "id": "ddb40e39",
   "metadata": {},
   "outputs": [
    {
     "name": "stdout",
     "output_type": "stream",
     "text": [
      "Updated CSV exported to: Updated_CUSIP.csv\n"
     ]
    }
   ],
   "source": [
    "import pandas as pd\n",
    "\n",
    "# Load the CSV into a DataFrame\n",
    "csv_file_path = 'CUSIP.csv'\n",
    "df = pd.read_csv(csv_file_path)\n",
    "\n",
    "# Add \" Muni\" to the end of each CUSIP\n",
    "df['CUSIP'] = df['CUSIP'] + ' Muni'\n",
    "\n",
    "# Export the updated DataFrame to a new CSV\n",
    "output_csv_path = 'Updated_CUSIP.csv'\n",
    "df.to_csv(output_csv_path, index=False)\n",
    "\n",
    "print(f\"Updated CSV exported to: {output_csv_path}\")\n"
   ]
  },
  {
   "cell_type": "code",
   "execution_count": null,
   "id": "2e735fa6",
   "metadata": {},
   "outputs": [],
   "source": [
    "#Could add more so I do not have to go into excel"
   ]
  }
 ],
 "metadata": {
  "kernelspec": {
   "display_name": "Python 3 (ipykernel)",
   "language": "python",
   "name": "python3"
  },
  "language_info": {
   "codemirror_mode": {
    "name": "ipython",
    "version": 3
   },
   "file_extension": ".py",
   "mimetype": "text/x-python",
   "name": "python",
   "nbconvert_exporter": "python",
   "pygments_lexer": "ipython3",
   "version": "3.9.12"
  }
 },
 "nbformat": 4,
 "nbformat_minor": 5
}
