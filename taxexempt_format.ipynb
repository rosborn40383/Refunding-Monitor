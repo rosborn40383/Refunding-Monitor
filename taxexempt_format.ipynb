{
 "cells": [
  {
   "cell_type": "code",
   "execution_count": null,
   "id": "41bd9181",
   "metadata": {},
   "outputs": [],
   "source": [
    "#Goal is to shape the taxexempt.csv and download it back"
   ]
  },
  {
   "cell_type": "code",
   "execution_count": 5,
   "id": "cc8938dd",
   "metadata": {},
   "outputs": [
    {
     "data": {
      "text/html": [
       "<div>\n",
       "<style scoped>\n",
       "    .dataframe tbody tr th:only-of-type {\n",
       "        vertical-align: middle;\n",
       "    }\n",
       "\n",
       "    .dataframe tbody tr th {\n",
       "        vertical-align: top;\n",
       "    }\n",
       "\n",
       "    .dataframe thead th {\n",
       "        text-align: right;\n",
       "    }\n",
       "</style>\n",
       "<table border=\"1\" class=\"dataframe\">\n",
       "  <thead>\n",
       "    <tr style=\"text-align: right;\">\n",
       "      <th>rating</th>\n",
       "      <th>date</th>\n",
       "      <th>year</th>\n",
       "      <th>AAA</th>\n",
       "      <th>AA</th>\n",
       "      <th>A</th>\n",
       "      <th>BAA</th>\n",
       "    </tr>\n",
       "  </thead>\n",
       "  <tbody>\n",
       "    <tr>\n",
       "      <th>0</th>\n",
       "      <td>2013-01-02</td>\n",
       "      <td>2024</td>\n",
       "      <td>0.22</td>\n",
       "      <td>0.27</td>\n",
       "      <td>0.46</td>\n",
       "      <td>1.04</td>\n",
       "    </tr>\n",
       "    <tr>\n",
       "      <th>1</th>\n",
       "      <td>2013-01-02</td>\n",
       "      <td>2025</td>\n",
       "      <td>0.36</td>\n",
       "      <td>0.45</td>\n",
       "      <td>0.66</td>\n",
       "      <td>1.47</td>\n",
       "    </tr>\n",
       "    <tr>\n",
       "      <th>2</th>\n",
       "      <td>2013-01-02</td>\n",
       "      <td>2026</td>\n",
       "      <td>0.51</td>\n",
       "      <td>0.62</td>\n",
       "      <td>0.86</td>\n",
       "      <td>1.80</td>\n",
       "    </tr>\n",
       "    <tr>\n",
       "      <th>3</th>\n",
       "      <td>2013-01-02</td>\n",
       "      <td>2027</td>\n",
       "      <td>0.69</td>\n",
       "      <td>0.85</td>\n",
       "      <td>1.15</td>\n",
       "      <td>2.10</td>\n",
       "    </tr>\n",
       "    <tr>\n",
       "      <th>4</th>\n",
       "      <td>2013-01-02</td>\n",
       "      <td>2028</td>\n",
       "      <td>0.84</td>\n",
       "      <td>1.02</td>\n",
       "      <td>1.38</td>\n",
       "      <td>2.27</td>\n",
       "    </tr>\n",
       "  </tbody>\n",
       "</table>\n",
       "</div>"
      ],
      "text/plain": [
       "rating        date  year   AAA    AA     A   BAA\n",
       "0       2013-01-02  2024  0.22  0.27  0.46  1.04\n",
       "1       2013-01-02  2025  0.36  0.45  0.66  1.47\n",
       "2       2013-01-02  2026  0.51  0.62  0.86  1.80\n",
       "3       2013-01-02  2027  0.69  0.85  1.15  2.10\n",
       "4       2013-01-02  2028  0.84  1.02  1.38  2.27"
      ]
     },
     "execution_count": 5,
     "metadata": {},
     "output_type": "execute_result"
    }
   ],
   "source": [
    "# Replace 'path/to/taxexempt.csv' with the actual path to your CSV file\n",
    "csv_path = 'taxexempt.csv'\n",
    "df = pd.read_csv(csv_path)\n",
    "\n",
    "# Change the scale column to the corresponding year\n",
    "df['year'] = 2023 + df['scale']\n",
    "\n",
    "# Keep only relevant columns\n",
    "df = df[['date', 'year', 'rating', 'value']]\n",
    "\n",
    "# Pivot the DataFrame using pivot_table\n",
    "df_pivot = df.pivot_table(index=['date', 'year'], columns='rating', values='value', aggfunc='mean')\n",
    "\n",
    "# Reset the index to make 'year' a column again\n",
    "df_pivot.reset_index(inplace=True)\n",
    "\n",
    "# Reorder columns\n",
    "df_pivot = df_pivot[['date', 'year', 'AAA', 'AA', 'A', 'BAA']]\n",
    "\n",
    "# View the result\n",
    "df_pivot.head()\n"
   ]
  }
 ],
 "metadata": {
  "kernelspec": {
   "display_name": "Python 3 (ipykernel)",
   "language": "python",
   "name": "python3"
  },
  "language_info": {
   "codemirror_mode": {
    "name": "ipython",
    "version": 3
   },
   "file_extension": ".py",
   "mimetype": "text/x-python",
   "name": "python",
   "nbconvert_exporter": "python",
   "pygments_lexer": "ipython3",
   "version": "3.9.12"
  }
 },
 "nbformat": 4,
 "nbformat_minor": 5
}
